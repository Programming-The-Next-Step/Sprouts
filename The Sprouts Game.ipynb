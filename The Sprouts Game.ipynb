{
 "cells": [
  {
   "cell_type": "markdown",
   "metadata": {},
   "source": [
    "Vignette: The Sprouts Game "
   ]
  },
  {
   "cell_type": "markdown",
   "metadata": {},
   "source": [
    "https://en.wikipedia.org/wiki/Sprouts_(game)"
   ]
  },
  {
   "cell_type": "markdown",
   "metadata": {},
   "source": [
    "Running Sprouts requires having pygame and pygame_menu modules installed."
   ]
  },
  {
   "cell_type": "code",
   "execution_count": null,
   "metadata": {},
   "outputs": [],
   "source": [
    "#For windows:\n",
    "python -m pip install pygame\n",
    "python -m pip install pygame_menu\n",
    "\n",
    "#For OS:\n",
    "#Requires homebrew missing package manager to be installed.\n",
    "/bin/bash -c \"$(curl -fsSL https://raw.githubusercontent.com/Homebrew/install/master/install.sh)\"\n",
    "\n",
    "pip3 install pygame\n",
    "pip3 install pygame_menu"
   ]
  },
  {
   "cell_type": "code",
   "execution_count": null,
   "metadata": {},
   "outputs": [],
   "source": [
    "#Can be run from the terminal or from within an interpreter ie. Visual Studio Code\n",
    "python3 sprouts.py"
   ]
  },
  {
   "cell_type": "markdown",
   "metadata": {},
   "source": [
    "Sprouts is standardised as a two player game. Prior to the game window being initiated, it will ask for two player inputs:\n",
    "\n",
    "\"Hello Players! Please enter your names seperated by a space: \"\n",
    "\n",
    "\"With how many starting dots do you want to play sprouts? \""
   ]
  },
  {
   "cell_type": "markdown",
   "metadata": {},
   "source": [
    "The game starts at a menu for the user to navigate. Pressing 'play' will start the game. "
   ]
  }
 ],
 "metadata": {
  "kernelspec": {
   "display_name": "Python 3",
   "language": "python",
   "name": "python3"
  },
  "language_info": {
   "codemirror_mode": {
    "name": "ipython",
    "version": 3
   },
   "file_extension": ".py",
   "mimetype": "text/x-python",
   "name": "python",
   "nbconvert_exporter": "python",
   "pygments_lexer": "ipython3",
   "version": "3.7.7"
  }
 },
 "nbformat": 4,
 "nbformat_minor": 4
}
